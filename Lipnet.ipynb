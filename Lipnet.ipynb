{
  "nbformat": 4,
  "nbformat_minor": 0,
  "metadata": {
    "colab": {
      "provenance": []
    },
    "kernelspec": {
      "name": "python3",
      "display_name": "Python 3"
    },
    "language_info": {
      "name": "python"
    }
  },
  "cells": [
    {
      "cell_type": "code",
      "execution_count": 1,
      "metadata": {
        "id": "N9-uJGw5g39m",
        "colab": {
          "base_uri": "https://localhost:8080/"
        },
        "outputId": "d78460c6-73e4-4032-fba9-e3d90a77fe5d"
      },
      "outputs": [
        {
          "output_type": "stream",
          "name": "stdout",
          "text": [
            "Requirement already satisfied: opencv-python in /usr/local/lib/python3.10/dist-packages (4.8.0.76)\n",
            "Requirement already satisfied: matplotlib in /usr/local/lib/python3.10/dist-packages (3.7.1)\n",
            "Requirement already satisfied: imageio in /usr/local/lib/python3.10/dist-packages (2.31.6)\n",
            "Requirement already satisfied: gdown in /usr/local/lib/python3.10/dist-packages (4.7.3)\n",
            "Requirement already satisfied: tensorflow in /usr/local/lib/python3.10/dist-packages (2.15.0)\n",
            "Requirement already satisfied: numpy>=1.21.2 in /usr/local/lib/python3.10/dist-packages (from opencv-python) (1.25.2)\n",
            "Requirement already satisfied: contourpy>=1.0.1 in /usr/local/lib/python3.10/dist-packages (from matplotlib) (1.2.0)\n",
            "Requirement already satisfied: cycler>=0.10 in /usr/local/lib/python3.10/dist-packages (from matplotlib) (0.12.1)\n",
            "Requirement already satisfied: fonttools>=4.22.0 in /usr/local/lib/python3.10/dist-packages (from matplotlib) (4.49.0)\n",
            "Requirement already satisfied: kiwisolver>=1.0.1 in /usr/local/lib/python3.10/dist-packages (from matplotlib) (1.4.5)\n",
            "Requirement already satisfied: packaging>=20.0 in /usr/local/lib/python3.10/dist-packages (from matplotlib) (23.2)\n",
            "Requirement already satisfied: pillow>=6.2.0 in /usr/local/lib/python3.10/dist-packages (from matplotlib) (9.4.0)\n",
            "Requirement already satisfied: pyparsing>=2.3.1 in /usr/local/lib/python3.10/dist-packages (from matplotlib) (3.1.1)\n",
            "Requirement already satisfied: python-dateutil>=2.7 in /usr/local/lib/python3.10/dist-packages (from matplotlib) (2.8.2)\n",
            "Requirement already satisfied: filelock in /usr/local/lib/python3.10/dist-packages (from gdown) (3.13.1)\n",
            "Requirement already satisfied: requests[socks] in /usr/local/lib/python3.10/dist-packages (from gdown) (2.31.0)\n",
            "Requirement already satisfied: six in /usr/local/lib/python3.10/dist-packages (from gdown) (1.16.0)\n",
            "Requirement already satisfied: tqdm in /usr/local/lib/python3.10/dist-packages (from gdown) (4.66.2)\n",
            "Requirement already satisfied: beautifulsoup4 in /usr/local/lib/python3.10/dist-packages (from gdown) (4.12.3)\n",
            "Requirement already satisfied: absl-py>=1.0.0 in /usr/local/lib/python3.10/dist-packages (from tensorflow) (1.4.0)\n",
            "Requirement already satisfied: astunparse>=1.6.0 in /usr/local/lib/python3.10/dist-packages (from tensorflow) (1.6.3)\n",
            "Requirement already satisfied: flatbuffers>=23.5.26 in /usr/local/lib/python3.10/dist-packages (from tensorflow) (23.5.26)\n",
            "Requirement already satisfied: gast!=0.5.0,!=0.5.1,!=0.5.2,>=0.2.1 in /usr/local/lib/python3.10/dist-packages (from tensorflow) (0.5.4)\n",
            "Requirement already satisfied: google-pasta>=0.1.1 in /usr/local/lib/python3.10/dist-packages (from tensorflow) (0.2.0)\n",
            "Requirement already satisfied: h5py>=2.9.0 in /usr/local/lib/python3.10/dist-packages (from tensorflow) (3.9.0)\n",
            "Requirement already satisfied: libclang>=13.0.0 in /usr/local/lib/python3.10/dist-packages (from tensorflow) (16.0.6)\n",
            "Requirement already satisfied: ml-dtypes~=0.2.0 in /usr/local/lib/python3.10/dist-packages (from tensorflow) (0.2.0)\n",
            "Requirement already satisfied: opt-einsum>=2.3.2 in /usr/local/lib/python3.10/dist-packages (from tensorflow) (3.3.0)\n",
            "Requirement already satisfied: protobuf!=4.21.0,!=4.21.1,!=4.21.2,!=4.21.3,!=4.21.4,!=4.21.5,<5.0.0dev,>=3.20.3 in /usr/local/lib/python3.10/dist-packages (from tensorflow) (3.20.3)\n",
            "Requirement already satisfied: setuptools in /usr/local/lib/python3.10/dist-packages (from tensorflow) (67.7.2)\n",
            "Requirement already satisfied: termcolor>=1.1.0 in /usr/local/lib/python3.10/dist-packages (from tensorflow) (2.4.0)\n",
            "Requirement already satisfied: typing-extensions>=3.6.6 in /usr/local/lib/python3.10/dist-packages (from tensorflow) (4.9.0)\n",
            "Requirement already satisfied: wrapt<1.15,>=1.11.0 in /usr/local/lib/python3.10/dist-packages (from tensorflow) (1.14.1)\n",
            "Requirement already satisfied: tensorflow-io-gcs-filesystem>=0.23.1 in /usr/local/lib/python3.10/dist-packages (from tensorflow) (0.36.0)\n",
            "Requirement already satisfied: grpcio<2.0,>=1.24.3 in /usr/local/lib/python3.10/dist-packages (from tensorflow) (1.60.1)\n",
            "Requirement already satisfied: tensorboard<2.16,>=2.15 in /usr/local/lib/python3.10/dist-packages (from tensorflow) (2.15.2)\n",
            "Requirement already satisfied: tensorflow-estimator<2.16,>=2.15.0 in /usr/local/lib/python3.10/dist-packages (from tensorflow) (2.15.0)\n",
            "Requirement already satisfied: keras<2.16,>=2.15.0 in /usr/local/lib/python3.10/dist-packages (from tensorflow) (2.15.0)\n",
            "Requirement already satisfied: wheel<1.0,>=0.23.0 in /usr/local/lib/python3.10/dist-packages (from astunparse>=1.6.0->tensorflow) (0.42.0)\n",
            "Requirement already satisfied: google-auth<3,>=1.6.3 in /usr/local/lib/python3.10/dist-packages (from tensorboard<2.16,>=2.15->tensorflow) (2.27.0)\n",
            "Requirement already satisfied: google-auth-oauthlib<2,>=0.5 in /usr/local/lib/python3.10/dist-packages (from tensorboard<2.16,>=2.15->tensorflow) (1.2.0)\n",
            "Requirement already satisfied: markdown>=2.6.8 in /usr/local/lib/python3.10/dist-packages (from tensorboard<2.16,>=2.15->tensorflow) (3.5.2)\n",
            "Requirement already satisfied: tensorboard-data-server<0.8.0,>=0.7.0 in /usr/local/lib/python3.10/dist-packages (from tensorboard<2.16,>=2.15->tensorflow) (0.7.2)\n",
            "Requirement already satisfied: werkzeug>=1.0.1 in /usr/local/lib/python3.10/dist-packages (from tensorboard<2.16,>=2.15->tensorflow) (3.0.1)\n",
            "Requirement already satisfied: soupsieve>1.2 in /usr/local/lib/python3.10/dist-packages (from beautifulsoup4->gdown) (2.5)\n",
            "Requirement already satisfied: charset-normalizer<4,>=2 in /usr/local/lib/python3.10/dist-packages (from requests[socks]->gdown) (3.3.2)\n",
            "Requirement already satisfied: idna<4,>=2.5 in /usr/local/lib/python3.10/dist-packages (from requests[socks]->gdown) (3.6)\n",
            "Requirement already satisfied: urllib3<3,>=1.21.1 in /usr/local/lib/python3.10/dist-packages (from requests[socks]->gdown) (2.0.7)\n",
            "Requirement already satisfied: certifi>=2017.4.17 in /usr/local/lib/python3.10/dist-packages (from requests[socks]->gdown) (2024.2.2)\n",
            "Requirement already satisfied: PySocks!=1.5.7,>=1.5.6 in /usr/local/lib/python3.10/dist-packages (from requests[socks]->gdown) (1.7.1)\n",
            "Requirement already satisfied: cachetools<6.0,>=2.0.0 in /usr/local/lib/python3.10/dist-packages (from google-auth<3,>=1.6.3->tensorboard<2.16,>=2.15->tensorflow) (5.3.2)\n",
            "Requirement already satisfied: pyasn1-modules>=0.2.1 in /usr/local/lib/python3.10/dist-packages (from google-auth<3,>=1.6.3->tensorboard<2.16,>=2.15->tensorflow) (0.3.0)\n",
            "Requirement already satisfied: rsa<5,>=3.1.4 in /usr/local/lib/python3.10/dist-packages (from google-auth<3,>=1.6.3->tensorboard<2.16,>=2.15->tensorflow) (4.9)\n",
            "Requirement already satisfied: requests-oauthlib>=0.7.0 in /usr/local/lib/python3.10/dist-packages (from google-auth-oauthlib<2,>=0.5->tensorboard<2.16,>=2.15->tensorflow) (1.3.1)\n",
            "Requirement already satisfied: MarkupSafe>=2.1.1 in /usr/local/lib/python3.10/dist-packages (from werkzeug>=1.0.1->tensorboard<2.16,>=2.15->tensorflow) (2.1.5)\n",
            "Requirement already satisfied: pyasn1<0.6.0,>=0.4.6 in /usr/local/lib/python3.10/dist-packages (from pyasn1-modules>=0.2.1->google-auth<3,>=1.6.3->tensorboard<2.16,>=2.15->tensorflow) (0.5.1)\n",
            "Requirement already satisfied: oauthlib>=3.0.0 in /usr/local/lib/python3.10/dist-packages (from requests-oauthlib>=0.7.0->google-auth-oauthlib<2,>=0.5->tensorboard<2.16,>=2.15->tensorflow) (3.2.2)\n"
          ]
        }
      ],
      "source": [
        "!pip install opencv-python matplotlib imageio gdown tensorflow"
      ]
    },
    {
      "cell_type": "code",
      "source": [
        "from google.colab import drive\n",
        "drive.mount('/content/gdrive/')"
      ],
      "metadata": {
        "colab": {
          "base_uri": "https://localhost:8080/"
        },
        "id": "xK-3uj_qnpx1",
        "outputId": "7b2af5d2-ab40-4c3a-e06b-de1fc1618b6c"
      },
      "execution_count": 2,
      "outputs": [
        {
          "output_type": "stream",
          "name": "stdout",
          "text": [
            "Mounted at /content/gdrive/\n"
          ]
        }
      ]
    },
    {
      "cell_type": "code",
      "source": [
        "import os\n",
        "import cv2\n",
        "import tensorflow as tf\n",
        "import numpy as np\n",
        "from typing import List\n",
        "import matplotlib.pyplot as plt\n",
        "import imageio"
      ],
      "metadata": {
        "id": "v-9WygEohdqJ"
      },
      "execution_count": 3,
      "outputs": []
    },
    {
      "cell_type": "code",
      "source": [
        "physical_devices = tf.config.list_physical_devices(\"GPU\")\n",
        "try:\n",
        "  tf.config.experimental.set_memory_growth(physical_devices[0], True)\n",
        "except:\n",
        "  pass"
      ],
      "metadata": {
        "id": "oXOzMn_HiYG7"
      },
      "execution_count": 4,
      "outputs": []
    },
    {
      "cell_type": "markdown",
      "source": [
        "#Build Data Loader"
      ],
      "metadata": {
        "id": "FTJM4fd6i3uR"
      }
    },
    {
      "cell_type": "code",
      "source": [
        "import gdown\n",
        "import zipfile"
      ],
      "metadata": {
        "id": "ywBIII0Hix4t"
      },
      "execution_count": 5,
      "outputs": []
    },
    {
      "cell_type": "code",
      "source": [
        "# @title\n",
        "url = 'https://drive.google.com/file/d/1V9uQ5idqk9A4hIMNAT9wwoL5KB1OyOd3/view?usp=sharing'\n",
        "# output = 'data1.zip'\n",
        "# gdown.download(url, output, quiet=False)\n",
        "with zipfile.ZipFile('/content/data.zip', 'r') as zip_ref:\n",
        "    zip_ref.extractall('data')\n",
        "# gdown.extractall('/content/data1.zip')\n",
        "# gdown.download_folder(url)"
      ],
      "metadata": {
        "id": "Tb2DQE3xjLnh",
        "cellView": "form"
      },
      "execution_count": null,
      "outputs": []
    },
    {
      "cell_type": "code",
      "source": [
        "def load_video(path:str) -> List[float]:\n",
        "    cap = cv2.VideoCapture(path)\n",
        "    frames = []\n",
        "    for _ in range(int(cap.get(cv2.CAP_PROP_FRAME_COUNT))):\n",
        "        ret, frame = cap.read()\n",
        "        frame = tf.image.rgb_to_grayscale(frame)\n",
        "        frames.append(frame[190:236,80:220,:])\n",
        "    cap.release()\n",
        "\n",
        "    mean = tf.math.reduce_mean(frames)\n",
        "    std = tf.math.reduce_std(tf.cast(frames, tf.float32))\n",
        "    return tf.cast((frames - mean), tf.float32) / std"
      ],
      "metadata": {
        "id": "15snFLhkjucz"
      },
      "execution_count": 6,
      "outputs": []
    },
    {
      "cell_type": "code",
      "source": [
        "vocab = [x for x in \"abcdefghijklmnopqrstuvwxyz'?!123456789 \"]"
      ],
      "metadata": {
        "id": "0nyl10H8pSD4"
      },
      "execution_count": 7,
      "outputs": []
    },
    {
      "cell_type": "code",
      "source": [
        "char_to_num = tf.keras.layers.StringLookup(vocabulary=vocab, oov_token=\"\")\n",
        "num_to_char = tf.keras.layers.StringLookup(\n",
        "    vocabulary=char_to_num.get_vocabulary(), oov_token=\"\", invert=True\n",
        ")\n",
        "\n",
        "print(\n",
        "    f\"The vocabulary is: {char_to_num.get_vocabulary()} \"\n",
        "    f\"(size ={char_to_num.vocabulary_size()})\"\n",
        ")"
      ],
      "metadata": {
        "id": "giJk5UH6pWZn",
        "colab": {
          "base_uri": "https://localhost:8080/"
        },
        "outputId": "51bca809-3d5a-44b0-fe02-6ce0e917d874"
      },
      "execution_count": 8,
      "outputs": [
        {
          "output_type": "stream",
          "name": "stdout",
          "text": [
            "The vocabulary is: ['', 'a', 'b', 'c', 'd', 'e', 'f', 'g', 'h', 'i', 'j', 'k', 'l', 'm', 'n', 'o', 'p', 'q', 'r', 's', 't', 'u', 'v', 'w', 'x', 'y', 'z', \"'\", '?', '!', '1', '2', '3', '4', '5', '6', '7', '8', '9', ' '] (size =40)\n"
          ]
        }
      ]
    },
    {
      "cell_type": "code",
      "source": [
        "char_to_num.get_vocabulary()"
      ],
      "metadata": {
        "id": "WGSHXLiMpY-5",
        "colab": {
          "base_uri": "https://localhost:8080/"
        },
        "outputId": "4473953e-c38c-484d-d99b-a606b8b0a4eb"
      },
      "execution_count": 9,
      "outputs": [
        {
          "output_type": "execute_result",
          "data": {
            "text/plain": [
              "['',\n",
              " 'a',\n",
              " 'b',\n",
              " 'c',\n",
              " 'd',\n",
              " 'e',\n",
              " 'f',\n",
              " 'g',\n",
              " 'h',\n",
              " 'i',\n",
              " 'j',\n",
              " 'k',\n",
              " 'l',\n",
              " 'm',\n",
              " 'n',\n",
              " 'o',\n",
              " 'p',\n",
              " 'q',\n",
              " 'r',\n",
              " 's',\n",
              " 't',\n",
              " 'u',\n",
              " 'v',\n",
              " 'w',\n",
              " 'x',\n",
              " 'y',\n",
              " 'z',\n",
              " \"'\",\n",
              " '?',\n",
              " '!',\n",
              " '1',\n",
              " '2',\n",
              " '3',\n",
              " '4',\n",
              " '5',\n",
              " '6',\n",
              " '7',\n",
              " '8',\n",
              " '9',\n",
              " ' ']"
            ]
          },
          "metadata": {},
          "execution_count": 9
        }
      ]
    },
    {
      "cell_type": "code",
      "source": [
        "char_to_num(['n','i','c','k'])"
      ],
      "metadata": {
        "id": "K5wkh8bzpb98",
        "colab": {
          "base_uri": "https://localhost:8080/"
        },
        "outputId": "114c6e13-55b0-4a41-a18a-4ccef452f949"
      },
      "execution_count": 10,
      "outputs": [
        {
          "output_type": "execute_result",
          "data": {
            "text/plain": [
              "<tf.Tensor: shape=(4,), dtype=int64, numpy=array([14,  9,  3, 11])>"
            ]
          },
          "metadata": {},
          "execution_count": 10
        }
      ]
    },
    {
      "cell_type": "code",
      "source": [
        "num_to_char([14,  9,  3, 11])"
      ],
      "metadata": {
        "id": "hbzik9_spd9o",
        "colab": {
          "base_uri": "https://localhost:8080/"
        },
        "outputId": "41873ea2-3b3b-4798-b69f-b9ab43b2858a"
      },
      "execution_count": 11,
      "outputs": [
        {
          "output_type": "execute_result",
          "data": {
            "text/plain": [
              "<tf.Tensor: shape=(4,), dtype=string, numpy=array([b'n', b'i', b'c', b'k'], dtype=object)>"
            ]
          },
          "metadata": {},
          "execution_count": 11
        }
      ]
    },
    {
      "cell_type": "code",
      "source": [
        "def load_alignments(path:str) -> List[str]:\n",
        "    with open(path, 'r') as f:\n",
        "        lines = f.readlines()\n",
        "    tokens = []\n",
        "    for line in lines:\n",
        "        line = line.split()\n",
        "        if line[2] != 'sil':\n",
        "            tokens = [*tokens,' ',line[2]]\n",
        "    return char_to_num(tf.reshape(tf.strings.unicode_split(tokens, input_encoding='UTF-8'), (-1)))[1:]"
      ],
      "metadata": {
        "id": "V-MFQ-rwpgGu"
      },
      "execution_count": 12,
      "outputs": []
    },
    {
      "cell_type": "code",
      "source": [
        "def load_data(path: str):\n",
        "    path = bytes.decode(path.numpy())\n",
        "    #file_name = path.split('/')[-1].split('.')[0]\n",
        "    # File name splitting for windows\n",
        "    file_name = path.split('\\\\')[-1].split('.')[0].split('/')[-1]\n",
        "    video_path = os.path.join('/content/gdrive/MyDrive/Lipnet data/data','s1',f'{file_name}.mpg')\n",
        "    alignment_path = os.path.join('/content/gdrive/MyDrive/Lipnet data/data','alignments','s1',f'{file_name}.align')\n",
        "    frames = load_video(video_path)\n",
        "    alignments = load_alignments(alignment_path)\n",
        "\n",
        "    return frames, alignments"
      ],
      "metadata": {
        "id": "R193OyzuyrSn"
      },
      "execution_count": 40,
      "outputs": []
    },
    {
      "cell_type": "code",
      "source": [
        "test_path = '/content/gdrive/MyDrive/Lipnet data/data/s1/bbal6n.mpg'"
      ],
      "metadata": {
        "id": "AA9D7lcwyvDE"
      },
      "execution_count": 20,
      "outputs": []
    },
    {
      "cell_type": "code",
      "source": [
        "tf.convert_to_tensor(test_path).numpy().decode('utf-8').split('\\\\')[-1].split('.')[0]"
      ],
      "metadata": {
        "colab": {
          "base_uri": "https://localhost:8080/",
          "height": 35
        },
        "id": "PKpyYTB5zES7",
        "outputId": "9eed838b-bad2-482a-984b-31795564ec91"
      },
      "execution_count": 15,
      "outputs": [
        {
          "output_type": "execute_result",
          "data": {
            "text/plain": [
              "'/content/gdrive/MyDrive/Lipnet data/data/s1/bbal6n'"
            ],
            "application/vnd.google.colaboratory.intrinsic+json": {
              "type": "string"
            }
          },
          "metadata": {},
          "execution_count": 15
        }
      ]
    },
    {
      "cell_type": "code",
      "source": [
        "frames, alignments = load_data(tf.convert_to_tensor(test_path))"
      ],
      "metadata": {
        "id": "sK4zfrSszGSe"
      },
      "execution_count": 41,
      "outputs": []
    },
    {
      "cell_type": "code",
      "source": [
        "plt.imshow(frames[40])"
      ],
      "metadata": {
        "colab": {
          "base_uri": "https://localhost:8080/",
          "height": 244
        },
        "id": "CxQIwVxtzH1D",
        "outputId": "a18d9d57-64ad-4c1a-cfd3-4761ba9f3941"
      },
      "execution_count": 42,
      "outputs": [
        {
          "output_type": "execute_result",
          "data": {
            "text/plain": [
              "<matplotlib.image.AxesImage at 0x794ca9f177c0>"
            ]
          },
          "metadata": {},
          "execution_count": 42
        },
        {
          "output_type": "display_data",
          "data": {
            "text/plain": [
              "<Figure size 640x480 with 1 Axes>"
            ],
            "image/png": "[encoded data removed]"
          },
          "metadata": {}
        }
      ]
    },
    {
      "cell_type": "code",
      "source": [
        "alignments"
      ],
      "metadata": {
        "colab": {
          "base_uri": "https://localhost:8080/"
        },
        "id": "2Q_ljE1D1ZIG",
        "outputId": "fdfa59e2-2779-4327-ce9d-a6665ac22922"
      },
      "execution_count": 43,
      "outputs": [
        {
          "output_type": "execute_result",
          "data": {
            "text/plain": [
              "<tf.Tensor: shape=(21,), dtype=int64, numpy=\n",
              "array([ 2,  9, 14, 39,  2, 12, 21,  5, 39,  1, 20, 39, 12, 39, 19,  9, 24,\n",
              "       39, 14, 15, 23])>"
            ]
          },
          "metadata": {},
          "execution_count": 43
        }
      ]
    },
    {
      "cell_type": "code",
      "source": [
        "tf.strings.reduce_join([bytes.decode(x) for x in num_to_char(alignments.numpy()).numpy()])"
      ],
      "metadata": {
        "colab": {
          "base_uri": "https://localhost:8080/"
        },
        "id": "LKPwlP-P1b2n",
        "outputId": "f8ec97c2-5096-4a02-c201-9befd51ce6dd"
      },
      "execution_count": 44,
      "outputs": [
        {
          "output_type": "execute_result",
          "data": {
            "text/plain": [
              "<tf.Tensor: shape=(), dtype=string, numpy=b'bin blue at l six now'>"
            ]
          },
          "metadata": {},
          "execution_count": 44
        }
      ]
    },
    {
      "cell_type": "code",
      "source": [
        "def mappable_function(path:str) ->List[str]:\n",
        "    result = tf.py_function(load_data, [path], (tf.float32, tf.int64))\n",
        "    return result"
      ],
      "metadata": {
        "id": "lRZ7FTmz1edd"
      },
      "execution_count": 45,
      "outputs": []
    },
    {
      "cell_type": "markdown",
      "source": [
        "#2. Data Pipeline"
      ],
      "metadata": {
        "id": "880lX0U21iog"
      }
    },
    {
      "cell_type": "code",
      "source": [
        "from matplotlib import pyplot as plt"
      ],
      "metadata": {
        "id": "ApD4srWo1gWS"
      },
      "execution_count": 46,
      "outputs": []
    },
    {
      "cell_type": "code",
      "source": [
        "data = tf.data.Dataset.list_files('/content/gdrive/MyDrive/Lipnet data/data/s1/*.mpg')\n",
        "data = data.shuffle(500, reshuffle_each_iteration=False)\n",
        "data = data.map(mappable_function)\n",
        "data = data.padded_batch(2, padded_shapes=([75,None,None,None],[40]))\n",
        "data = data.prefetch(tf.data.AUTOTUNE)\n",
        "# Added for split\n",
        "train = data.take(450)\n",
        "test = data.skip(450)"
      ],
      "metadata": {
        "id": "isP5QZLB1h58"
      },
      "execution_count": 47,
      "outputs": []
    },
    {
      "cell_type": "code",
      "source": [
        "len(test)"
      ],
      "metadata": {
        "colab": {
          "base_uri": "https://localhost:8080/"
        },
        "id": "WddWG_5K1sW1",
        "outputId": "94b0b5f5-a9dc-4f43-b96a-7c231d3b3c3d"
      },
      "execution_count": 48,
      "outputs": [
        {
          "output_type": "execute_result",
          "data": {
            "text/plain": [
              "50"
            ]
          },
          "metadata": {},
          "execution_count": 48
        }
      ]
    },
    {
      "cell_type": "code",
      "source": [
        "frames, alignments = data.as_numpy_iterator().next()"
      ],
      "metadata": {
        "id": "CvQZ6DwA1t6v"
      },
      "execution_count": 49,
      "outputs": []
    },
    {
      "cell_type": "code",
      "source": [
        "len(frames)"
      ],
      "metadata": {
        "colab": {
          "base_uri": "https://localhost:8080/"
        },
        "id": "9RjWunp31veT",
        "outputId": "9fc35aaf-02bb-4c61-9c93-1ed96f010915"
      },
      "execution_count": 50,
      "outputs": [
        {
          "output_type": "execute_result",
          "data": {
            "text/plain": [
              "2"
            ]
          },
          "metadata": {},
          "execution_count": 50
        }
      ]
    },
    {
      "cell_type": "code",
      "source": [
        "sample = data.as_numpy_iterator()"
      ],
      "metadata": {
        "id": "CjFK9xvL1w9z"
      },
      "execution_count": 51,
      "outputs": []
    },
    {
      "cell_type": "code",
      "source": [
        "val = sample.next(); val[0]"
      ],
      "metadata": {
        "colab": {
          "base_uri": "https://localhost:8080/"
        },
        "id": "41_MO-ib1yUi",
        "outputId": "b336bfbe-1119-482b-8d0d-1706c613e5f0"
      },
      "execution_count": 52,
      "outputs": [
        {
          "output_type": "execute_result",
          "data": {
            "text/plain": [
              "array([[[[[1.5118138 ],\n",
              "          [1.5118138 ],\n",
              "          [1.5118138 ],\n",
              "          ...,\n",
              "          [9.292124  ],\n",
              "          [0.33186156],\n",
              "          [0.36873505]],\n",
              "\n",
              "         [[1.5118138 ],\n",
              "          [1.5118138 ],\n",
              "          [1.5118138 ],\n",
              "          ...,\n",
              "          [9.107756  ],\n",
              "          [0.25811455],\n",
              "          [0.5162291 ]],\n",
              "\n",
              "         [[1.4749402 ],\n",
              "          [1.4749402 ],\n",
              "          [1.4749402 ],\n",
              "          ...,\n",
              "          [0.22124103],\n",
              "          [0.33186156],\n",
              "          [0.33186156]],\n",
              "\n",
              "         ...,\n",
              "\n",
              "         [[0.99558467],\n",
              "          [0.99558467],\n",
              "          [0.99558467],\n",
              "          ...,\n",
              "          [0.07374701],\n",
              "          [0.07374701],\n",
              "          [0.11062051]],\n",
              "\n",
              "         [[0.99558467],\n",
              "          [0.99558467],\n",
              "          [0.99558467],\n",
              "          ...,\n",
              "          [0.0368735 ],\n",
              "          [0.07374701],\n",
              "          [0.07374701]],\n",
              "\n",
              "         [[0.99558467],\n",
              "          [0.99558467],\n",
              "          [0.99558467],\n",
              "          ...,\n",
              "          [0.0368735 ],\n",
              "          [0.07374701],\n",
              "          [0.07374701]]],\n",
              "\n",
              "\n",
              "        [[[1.5118138 ],\n",
              "          [1.5118138 ],\n",
              "          [1.4749402 ],\n",
              "          ...,\n",
              "          [9.36587   ],\n",
              "          [0.14749402],\n",
              "          [0.22124103]],\n",
              "\n",
              "         [[1.5118138 ],\n",
              "          [1.5118138 ],\n",
              "          [1.4749402 ],\n",
              "          ...,\n",
              "          [9.328997  ],\n",
              "          [0.22124103],\n",
              "          [0.22124103]],\n",
              "\n",
              "         [[1.4011931 ],\n",
              "          [1.4011931 ],\n",
              "          [1.4011931 ],\n",
              "          ...,\n",
              "          [0.22124103],\n",
              "          [0.29498804],\n",
              "          [0.29498804]],\n",
              "\n",
              "         ...,\n",
              "\n",
              "         [[0.99558467],\n",
              "          [0.99558467],\n",
              "          [0.99558467],\n",
              "          ...,\n",
              "          [0.0368735 ],\n",
              "          [0.        ],\n",
              "          [0.0368735 ]],\n",
              "\n",
              "         [[0.99558467],\n",
              "          [0.99558467],\n",
              "          [0.99558467],\n",
              "          ...,\n",
              "          [0.        ],\n",
              "          [0.        ],\n",
              "          [0.        ]],\n",
              "\n",
              "         [[0.99558467],\n",
              "          [0.99558467],\n",
              "          [0.99558467],\n",
              "          ...,\n",
              "          [0.        ],\n",
              "          [0.        ],\n",
              "          [0.        ]]],\n",
              "\n",
              "\n",
              "        [[[1.5118138 ],\n",
              "          [1.5118138 ],\n",
              "          [1.4380667 ],\n",
              "          ...,\n",
              "          [9.36587   ],\n",
              "          [0.18436752],\n",
              "          [0.29498804]],\n",
              "\n",
              "         [[1.5118138 ],\n",
              "          [1.5118138 ],\n",
              "          [1.4380667 ],\n",
              "          ...,\n",
              "          [9.36587   ],\n",
              "          [0.18436752],\n",
              "          [0.33186156]],\n",
              "\n",
              "         [[1.4011931 ],\n",
              "          [1.4011931 ],\n",
              "          [1.4011931 ],\n",
              "          ...,\n",
              "          [0.33186156],\n",
              "          [0.33186156],\n",
              "          [0.33186156]],\n",
              "\n",
              "         ...,\n",
              "\n",
              "         [[0.99558467],\n",
              "          [0.99558467],\n",
              "          [0.99558467],\n",
              "          ...,\n",
              "          [0.0368735 ],\n",
              "          [0.0368735 ],\n",
              "          [0.07374701]],\n",
              "\n",
              "         [[0.99558467],\n",
              "          [0.99558467],\n",
              "          [0.99558467],\n",
              "          ...,\n",
              "          [0.0368735 ],\n",
              "          [0.        ],\n",
              "          [0.        ]],\n",
              "\n",
              "         [[0.95871115],\n",
              "          [0.95871115],\n",
              "          [0.95871115],\n",
              "          ...,\n",
              "          [0.0368735 ],\n",
              "          [0.        ],\n",
              "          [0.        ]]],\n",
              "\n",
              "\n",
              "        ...,\n",
              "\n",
              "\n",
              "        [[[1.4749402 ],\n",
              "          [1.4749402 ],\n",
              "          [1.4749402 ],\n",
              "          ...,\n",
              "          [9.402744  ],\n",
              "          [0.29498804],\n",
              "          [0.36873505]],\n",
              "\n",
              "         [[1.4749402 ],\n",
              "          [1.4749402 ],\n",
              "          [1.4749402 ],\n",
              "          ...,\n",
              "          [9.328997  ],\n",
              "          [0.22124103],\n",
              "          [0.44248205]],\n",
              "\n",
              "         [[1.3643197 ],\n",
              "          [1.3643197 ],\n",
              "          [1.4011931 ],\n",
              "          ...,\n",
              "          [0.22124103],\n",
              "          [0.29498804],\n",
              "          [0.29498804]],\n",
              "\n",
              "         ...,\n",
              "\n",
              "         [[1.0324582 ],\n",
              "          [0.99558467],\n",
              "          [0.95871115],\n",
              "          ...,\n",
              "          [0.07374701],\n",
              "          [0.0368735 ],\n",
              "          [0.0368735 ]],\n",
              "\n",
              "         [[1.0324582 ],\n",
              "          [0.99558467],\n",
              "          [0.99558467],\n",
              "          ...,\n",
              "          [0.0368735 ],\n",
              "          [0.0368735 ],\n",
              "          [0.        ]],\n",
              "\n",
              "         [[1.0324582 ],\n",
              "          [0.99558467],\n",
              "          [0.99558467],\n",
              "          ...,\n",
              "          [0.0368735 ],\n",
              "          [0.        ],\n",
              "          [0.        ]]],\n",
              "\n",
              "\n",
              "        [[[1.5118138 ],\n",
              "          [1.5118138 ],\n",
              "          [1.4380667 ],\n",
              "          ...,\n",
              "          [0.11062051],\n",
              "          [0.25811455],\n",
              "          [0.33186156]],\n",
              "\n",
              "         [[1.5118138 ],\n",
              "          [1.5118138 ],\n",
              "          [1.4380667 ],\n",
              "          ...,\n",
              "          [9.36587   ],\n",
              "          [0.22124103],\n",
              "          [0.36873505]],\n",
              "\n",
              "         [[1.4011931 ],\n",
              "          [1.4011931 ],\n",
              "          [1.4011931 ],\n",
              "          ...,\n",
              "          [0.25811455],\n",
              "          [0.33186156],\n",
              "          [0.33186156]],\n",
              "\n",
              "         ...,\n",
              "\n",
              "         [[0.99558467],\n",
              "          [1.0324582 ],\n",
              "          [0.95871115],\n",
              "          ...,\n",
              "          [0.0368735 ],\n",
              "          [0.07374701],\n",
              "          [0.07374701]],\n",
              "\n",
              "         [[0.99558467],\n",
              "          [1.0324582 ],\n",
              "          [0.99558467],\n",
              "          ...,\n",
              "          [0.0368735 ],\n",
              "          [0.0368735 ],\n",
              "          [0.        ]],\n",
              "\n",
              "         [[0.99558467],\n",
              "          [1.0324582 ],\n",
              "          [0.99558467],\n",
              "          ...,\n",
              "          [0.0368735 ],\n",
              "          [0.        ],\n",
              "          [0.        ]]],\n",
              "\n",
              "\n",
              "        [[[1.5118138 ],\n",
              "          [1.5118138 ],\n",
              "          [1.4380667 ],\n",
              "          ...,\n",
              "          [0.0368735 ],\n",
              "          [0.18436752],\n",
              "          [0.36873505]],\n",
              "\n",
              "         [[1.5118138 ],\n",
              "          [1.5118138 ],\n",
              "          [1.4380667 ],\n",
              "          ...,\n",
              "          [0.0368735 ],\n",
              "          [0.36873505],\n",
              "          [0.18436752]],\n",
              "\n",
              "         [[1.4749402 ],\n",
              "          [1.4749402 ],\n",
              "          [1.4749402 ],\n",
              "          ...,\n",
              "          [0.25811455],\n",
              "          [0.33186156],\n",
              "          [0.33186156]],\n",
              "\n",
              "         ...,\n",
              "\n",
              "         [[0.99558467],\n",
              "          [1.0324582 ],\n",
              "          [0.95871115],\n",
              "          ...,\n",
              "          [0.0368735 ],\n",
              "          [0.07374701],\n",
              "          [0.07374701]],\n",
              "\n",
              "         [[0.99558467],\n",
              "          [1.0324582 ],\n",
              "          [0.99558467],\n",
              "          ...,\n",
              "          [0.0368735 ],\n",
              "          [0.0368735 ],\n",
              "          [0.        ]],\n",
              "\n",
              "         [[0.99558467],\n",
              "          [1.0324582 ],\n",
              "          [0.99558467],\n",
              "          ...,\n",
              "          [0.0368735 ],\n",
              "          [0.        ],\n",
              "          [0.        ]]]],\n",
              "\n",
              "\n",
              "\n",
              "       [[[[1.6406873 ],\n",
              "          [1.6042277 ],\n",
              "          [1.567768  ],\n",
              "          ...,\n",
              "          [0.3645972 ],\n",
              "          [0.43751663],\n",
              "          [0.43751663]],\n",
              "\n",
              "         [[1.6042277 ],\n",
              "          [1.567768  ],\n",
              "          [1.4948485 ],\n",
              "          ...,\n",
              "          [0.40105692],\n",
              "          [0.43751663],\n",
              "          [0.43751663]],\n",
              "\n",
              "         [[1.4948485 ],\n",
              "          [1.4948485 ],\n",
              "          [1.4948485 ],\n",
              "          ...,\n",
              "          [0.40105692],\n",
              "          [0.40105692],\n",
              "          [0.40105692]],\n",
              "\n",
              "         ...,\n",
              "\n",
              "         [[1.0573319 ],\n",
              "          [1.0573319 ],\n",
              "          [1.0573319 ],\n",
              "          ...,\n",
              "          [0.10937916],\n",
              "          [0.10937916],\n",
              "          [0.10937916]],\n",
              "\n",
              "         [[1.0573319 ],\n",
              "          [1.0573319 ],\n",
              "          [1.0573319 ],\n",
              "          ...,\n",
              "          [0.10937916],\n",
              "          [0.10937916],\n",
              "          [0.10937916]],\n",
              "\n",
              "         [[1.0573319 ],\n",
              "          [1.0573319 ],\n",
              "          [1.0573319 ],\n",
              "          ...,\n",
              "          [0.10937916],\n",
              "          [0.10937916],\n",
              "          [0.07291944]]],\n",
              "\n",
              "\n",
              "        [[[1.6042277 ],\n",
              "          [1.567768  ],\n",
              "          [1.4219291 ],\n",
              "          ...,\n",
              "          [0.3281375 ],\n",
              "          [0.40105692],\n",
              "          [0.40105692]],\n",
              "\n",
              "         [[1.6042277 ],\n",
              "          [1.567768  ],\n",
              "          [1.4948485 ],\n",
              "          ...,\n",
              "          [0.3645972 ],\n",
              "          [0.40105692],\n",
              "          [0.40105692]],\n",
              "\n",
              "         [[1.4219291 ],\n",
              "          [1.4219291 ],\n",
              "          [1.4219291 ],\n",
              "          ...,\n",
              "          [0.3645972 ],\n",
              "          [0.3645972 ],\n",
              "          [0.3645972 ]],\n",
              "\n",
              "         ...,\n",
              "\n",
              "         [[1.0937916 ],\n",
              "          [1.0937916 ],\n",
              "          [1.0937916 ],\n",
              "          ...,\n",
              "          [0.14583889],\n",
              "          [0.10937916],\n",
              "          [0.07291944]],\n",
              "\n",
              "         [[1.0937916 ],\n",
              "          [1.0937916 ],\n",
              "          [1.0573319 ],\n",
              "          ...,\n",
              "          [0.10937916],\n",
              "          [0.07291944],\n",
              "          [0.07291944]],\n",
              "\n",
              "         [[1.0573319 ],\n",
              "          [1.0573319 ],\n",
              "          [1.0573319 ],\n",
              "          ...,\n",
              "          [0.07291944],\n",
              "          [0.07291944],\n",
              "          [0.03645972]]],\n",
              "\n",
              "\n",
              "        [[[1.5313082 ],\n",
              "          [1.4219291 ],\n",
              "          [1.31255   ],\n",
              "          ...,\n",
              "          [0.3281375 ],\n",
              "          [0.3281375 ],\n",
              "          [0.3281375 ]],\n",
              "\n",
              "         [[1.5313082 ],\n",
              "          [1.4948485 ],\n",
              "          [1.3854693 ],\n",
              "          ...,\n",
              "          [0.29167777],\n",
              "          [0.29167777],\n",
              "          [0.29167777]],\n",
              "\n",
              "         [[1.5313082 ],\n",
              "          [1.4948485 ],\n",
              "          [1.5313082 ],\n",
              "          ...,\n",
              "          [0.3645972 ],\n",
              "          [0.3645972 ],\n",
              "          [0.3645972 ]],\n",
              "\n",
              "         ...,\n",
              "\n",
              "         [[1.0937916 ],\n",
              "          [1.0937916 ],\n",
              "          [1.0937916 ],\n",
              "          ...,\n",
              "          [0.1822986 ],\n",
              "          [0.1822986 ],\n",
              "          [0.14583889]],\n",
              "\n",
              "         [[1.0937916 ],\n",
              "          [1.0937916 ],\n",
              "          [1.0573319 ],\n",
              "          ...,\n",
              "          [0.14583889],\n",
              "          [0.10937916],\n",
              "          [0.07291944]],\n",
              "\n",
              "         [[1.0573319 ],\n",
              "          [1.0573319 ],\n",
              "          [1.0573319 ],\n",
              "          ...,\n",
              "          [0.07291944],\n",
              "          [0.07291944],\n",
              "          [0.07291944]]],\n",
              "\n",
              "\n",
              "        ...,\n",
              "\n",
              "\n",
              "        [[[1.4583888 ],\n",
              "          [1.3854693 ],\n",
              "          [1.4948485 ],\n",
              "          ...,\n",
              "          [0.40105692],\n",
              "          [0.3281375 ],\n",
              "          [0.3281375 ]],\n",
              "\n",
              "         [[1.5313082 ],\n",
              "          [1.567768  ],\n",
              "          [1.3490096 ],\n",
              "          ...,\n",
              "          [0.40105692],\n",
              "          [0.3281375 ],\n",
              "          [0.3281375 ]],\n",
              "\n",
              "         [[1.4583888 ],\n",
              "          [1.4583888 ],\n",
              "          [1.4219291 ],\n",
              "          ...,\n",
              "          [0.3281375 ],\n",
              "          [0.3281375 ],\n",
              "          [0.3281375 ]],\n",
              "\n",
              "         ...,\n",
              "\n",
              "         [[0.98441243],\n",
              "          [0.98441243],\n",
              "          [1.0208721 ],\n",
              "          ...,\n",
              "          [0.07291944],\n",
              "          [0.07291944],\n",
              "          [0.03645972]],\n",
              "\n",
              "         [[0.98441243],\n",
              "          [0.98441243],\n",
              "          [1.0208721 ],\n",
              "          ...,\n",
              "          [0.03645972],\n",
              "          [0.03645972],\n",
              "          [0.03645972]],\n",
              "\n",
              "         [[0.98441243],\n",
              "          [0.98441243],\n",
              "          [1.0208721 ],\n",
              "          ...,\n",
              "          [0.03645972],\n",
              "          [0.03645972],\n",
              "          [0.        ]]],\n",
              "\n",
              "\n",
              "        [[[1.4948485 ],\n",
              "          [1.5313082 ],\n",
              "          [1.4948485 ],\n",
              "          ...,\n",
              "          [0.3281375 ],\n",
              "          [0.29167777],\n",
              "          [0.29167777]],\n",
              "\n",
              "         [[1.6406873 ],\n",
              "          [1.5313082 ],\n",
              "          [1.4948485 ],\n",
              "          ...,\n",
              "          [0.3281375 ],\n",
              "          [0.29167777],\n",
              "          [0.29167777]],\n",
              "\n",
              "         [[1.4219291 ],\n",
              "          [1.4219291 ],\n",
              "          [1.4219291 ],\n",
              "          ...,\n",
              "          [0.3645972 ],\n",
              "          [0.3645972 ],\n",
              "          [0.3645972 ]],\n",
              "\n",
              "         ...,\n",
              "\n",
              "         [[1.0937916 ],\n",
              "          [1.0208721 ],\n",
              "          [1.0573319 ],\n",
              "          ...,\n",
              "          [0.10937916],\n",
              "          [0.10937916],\n",
              "          [0.07291944]],\n",
              "\n",
              "         [[1.0208721 ],\n",
              "          [1.0208721 ],\n",
              "          [1.0573319 ],\n",
              "          ...,\n",
              "          [0.07291944],\n",
              "          [0.07291944],\n",
              "          [0.07291944]],\n",
              "\n",
              "         [[1.0208721 ],\n",
              "          [1.0208721 ],\n",
              "          [1.0573319 ],\n",
              "          ...,\n",
              "          [0.07291944],\n",
              "          [0.07291944],\n",
              "          [0.03645972]]],\n",
              "\n",
              "\n",
              "        [[[1.4583888 ],\n",
              "          [1.4948485 ],\n",
              "          [1.4948485 ],\n",
              "          ...,\n",
              "          [0.3645972 ],\n",
              "          [0.3281375 ],\n",
              "          [0.3281375 ]],\n",
              "\n",
              "         [[1.567768  ],\n",
              "          [1.3854693 ],\n",
              "          [1.3854693 ],\n",
              "          ...,\n",
              "          [0.40105692],\n",
              "          [0.3645972 ],\n",
              "          [0.3645972 ]],\n",
              "\n",
              "         [[1.4219291 ],\n",
              "          [1.4219291 ],\n",
              "          [1.3854693 ],\n",
              "          ...,\n",
              "          [0.3645972 ],\n",
              "          [0.3645972 ],\n",
              "          [0.3645972 ]],\n",
              "\n",
              "         ...,\n",
              "\n",
              "         [[1.0937916 ],\n",
              "          [1.0208721 ],\n",
              "          [1.0573319 ],\n",
              "          ...,\n",
              "          [0.10937916],\n",
              "          [0.10937916],\n",
              "          [0.07291944]],\n",
              "\n",
              "         [[1.0208721 ],\n",
              "          [1.0208721 ],\n",
              "          [1.0573319 ],\n",
              "          ...,\n",
              "          [0.07291944],\n",
              "          [0.07291944],\n",
              "          [0.07291944]],\n",
              "\n",
              "         [[1.0208721 ],\n",
              "          [1.0208721 ],\n",
              "          [1.0573319 ],\n",
              "          ...,\n",
              "          [0.07291944],\n",
              "          [0.07291944],\n",
              "          [0.03645972]]]]], dtype=float32)"
            ]
          },
          "metadata": {},
          "execution_count": 52
        }
      ]
    },
    {
      "cell_type": "code",
      "source": [
        "imageio.mimsave('./animation.gif', val[0][0], fps=10)"
      ],
      "metadata": {
        "id": "kLGn8gLh1z94"
      },
      "execution_count": null,
      "outputs": []
    },
    {
      "cell_type": "code",
      "source": [
        "plt.imshow(val[0][0][35])"
      ],
      "metadata": {
        "colab": {
          "base_uri": "https://localhost:8080/",
          "height": 244
        },
        "id": "hLBwsdXk12OK",
        "outputId": "933a5952-9070-451f-f0cb-6072de75acec"
      },
      "execution_count": 54,
      "outputs": [
        {
          "output_type": "execute_result",
          "data": {
            "text/plain": [
              "<matplotlib.image.AxesImage at 0x794ca4e8c700>"
            ]
          },
          "metadata": {},
          "execution_count": 54
        },
        {
          "output_type": "display_data",
          "data": {
            "text/plain": [
              "<Figure size 640x480 with 1 Axes>"
            ],
            "image/png": "[encoded data removed]"
          },
          "metadata": {}
        }
      ]
    },
    {
      "cell_type": "code",
      "source": [
        "tf.strings.reduce_join([num_to_char(word) for word in val[1][0]])"
      ],
      "metadata": {
        "colab": {
          "base_uri": "https://localhost:8080/"
        },
        "id": "2oB_06m-17LP",
        "outputId": "c1dc1180-c761-4ef1-c333-ab8af786aeb5"
      },
      "execution_count": 56,
      "outputs": [
        {
          "output_type": "execute_result",
          "data": {
            "text/plain": [
              "<tf.Tensor: shape=(), dtype=string, numpy=b'bin white at t five again'>"
            ]
          },
          "metadata": {},
          "execution_count": 56
        }
      ]
    },
    {
      "cell_type": "markdown",
      "source": [
        "#3. Design the Deep Neural Network"
      ],
      "metadata": {
        "id": "0tFaV6di2FGV"
      }
    },
    {
      "cell_type": "code",
      "source": [
        "from tensorflow.keras.models import Sequential\n",
        "from tensorflow.keras.layers import Conv3D, LSTM, Dense, Dropout, Bidirectional, MaxPool3D, Activation, Reshape, SpatialDropout3D, BatchNormalization, TimeDistributed, Flatten\n",
        "from tensorflow.keras.optimizers import Adam\n",
        "from tensorflow.keras.callbacks import ModelCheckpoint, LearningRateScheduler"
      ],
      "metadata": {
        "id": "Vc2gqDay2CCV"
      },
      "execution_count": 57,
      "outputs": []
    },
    {
      "cell_type": "code",
      "source": [
        "data.as_numpy_iterator().next()[0][0].shape"
      ],
      "metadata": {
        "colab": {
          "base_uri": "https://localhost:8080/"
        },
        "id": "brx0ODGd2L5O",
        "outputId": "02e49097-8150-4e42-bf95-1b46b6e05072"
      },
      "execution_count": 58,
      "outputs": [
        {
          "output_type": "execute_result",
          "data": {
            "text/plain": [
              "(75, 46, 140, 1)"
            ]
          },
          "metadata": {},
          "execution_count": 58
        }
      ]
    },
    {
      "cell_type": "code",
      "source": [
        "model = Sequential()\n",
        "model.add(Conv3D(128, 3, input_shape=(75,46,140,1), padding='same'))\n",
        "model.add(Activation('relu'))\n",
        "model.add(MaxPool3D((1,2,2)))\n",
        "\n",
        "model.add(Conv3D(256, 3, padding='same'))\n",
        "model.add(Activation('relu'))\n",
        "model.add(MaxPool3D((1,2,2)))\n",
        "\n",
        "model.add(Conv3D(75, 3, padding='same'))\n",
        "model.add(Activation('relu'))\n",
        "model.add(MaxPool3D((1,2,2)))\n",
        "\n",
        "model.add(TimeDistributed(Flatten()))\n",
        "\n",
        "model.add(Bidirectional(LSTM(128, kernel_initializer='Orthogonal', return_sequences=True)))\n",
        "model.add(Dropout(.5))\n",
        "\n",
        "model.add(Bidirectional(LSTM(128, kernel_initializer='Orthogonal', return_sequences=True)))\n",
        "model.add(Dropout(.5))\n",
        "\n",
        "model.add(Dense(char_to_num.vocabulary_size()+1, kernel_initializer='he_normal', activation='softmax'))"
      ],
      "metadata": {
        "id": "sljMbBQu2M_C"
      },
      "execution_count": 59,
      "outputs": []
    },
    {
      "cell_type": "code",
      "source": [
        "model.summary()"
      ],
      "metadata": {
        "colab": {
          "base_uri": "https://localhost:8080/"
        },
        "id": "N3sD9Cx42O_t",
        "outputId": "931ee30e-cf9e-46a4-d81a-3c3cfc49623f"
      },
      "execution_count": 60,
      "outputs": [
        {
          "output_type": "stream",
          "name": "stdout",
          "text": [
            "Model: \"sequential\"\n",
            "_________________________________________________________________\n",
            " Layer (type)                Output Shape              Param #   \n",
            "=================================================================\n",
            " conv3d (Conv3D)             (None, 75, 46, 140, 128   3584      \n",
            "                             )                                   \n",
            "                                                                 \n",
            " activation (Activation)     (None, 75, 46, 140, 128   0         \n",
            "                             )                                   \n",
            "                                                                 \n",
            " max_pooling3d (MaxPooling3  (None, 75, 23, 70, 128)   0         \n",
            " D)                                                              \n",
            "                                                                 \n",
            " conv3d_1 (Conv3D)           (None, 75, 23, 70, 256)   884992    \n",
            "                                                                 \n",
            " activation_1 (Activation)   (None, 75, 23, 70, 256)   0         \n",
            "                                                                 \n",
            " max_pooling3d_1 (MaxPoolin  (None, 75, 11, 35, 256)   0         \n",
            " g3D)                                                            \n",
            "                                                                 \n",
            " conv3d_2 (Conv3D)           (None, 75, 11, 35, 75)    518475    \n",
            "                                                                 \n",
            " activation_2 (Activation)   (None, 75, 11, 35, 75)    0         \n",
            "                                                                 \n",
            " max_pooling3d_2 (MaxPoolin  (None, 75, 5, 17, 75)     0         \n",
            " g3D)                                                            \n",
            "                                                                 \n",
            " time_distributed (TimeDist  (None, 75, 6375)          0         \n",
            " ributed)                                                        \n",
            "                                                                 \n",
            " bidirectional (Bidirection  (None, 75, 256)           6660096   \n",
            " al)                                                             \n",
            "                                                                 \n",
            " dropout (Dropout)           (None, 75, 256)           0         \n",
            "                                                                 \n",
            " bidirectional_1 (Bidirecti  (None, 75, 256)           394240    \n",
            " onal)                                                           \n",
            "                                                                 \n",
            " dropout_1 (Dropout)         (None, 75, 256)           0         \n",
            "                                                                 \n",
            " dense (Dense)               (None, 75, 41)            10537     \n",
            "                                                                 \n",
            "=================================================================\n",
            "Total params: 8471924 (32.32 MB)\n",
            "Trainable params: 8471924 (32.32 MB)\n",
            "Non-trainable params: 0 (0.00 Byte)\n",
            "_________________________________________________________________\n"
          ]
        }
      ]
    },
    {
      "cell_type": "code",
      "source": [
        "yhat = model.predict(val[0])"
      ],
      "metadata": {
        "colab": {
          "base_uri": "https://localhost:8080/"
        },
        "id": "xHxJAqQ62Q6c",
        "outputId": "19665d2b-4588-4781-f0ef-30616f5d9fdc"
      },
      "execution_count": 61,
      "outputs": [
        {
          "output_type": "stream",
          "name": "stdout",
          "text": [
            "1/1 [==============================] - 23s 23s/step\n"
          ]
        }
      ]
    },
    {
      "cell_type": "code",
      "source": [
        "tf.strings.reduce_join([num_to_char(x) for x in tf.argmax(yhat[0],axis=1)])"
      ],
      "metadata": {
        "colab": {
          "base_uri": "https://localhost:8080/"
        },
        "id": "DFi3ECX42TMW",
        "outputId": "01daae36-04f4-4333-a456-f429bb433767"
      },
      "execution_count": 62,
      "outputs": [
        {
          "output_type": "execute_result",
          "data": {
            "text/plain": [
              "<tf.Tensor: shape=(), dtype=string, numpy=b'n88888888888888888888888888888888888888888888888888888888888888888kkkkkuuuu'>"
            ]
          },
          "metadata": {},
          "execution_count": 62
        }
      ]
    },
    {
      "cell_type": "code",
      "source": [
        "tf.strings.reduce_join([num_to_char(tf.argmax(x)) for x in yhat[0]])"
      ],
      "metadata": {
        "colab": {
          "base_uri": "https://localhost:8080/"
        },
        "id": "SYoN3i9L2U4h",
        "outputId": "ad54d037-6c94-482a-bacb-c116ba622e27"
      },
      "execution_count": 63,
      "outputs": [
        {
          "output_type": "execute_result",
          "data": {
            "text/plain": [
              "<tf.Tensor: shape=(), dtype=string, numpy=b'n88888888888888888888888888888888888888888888888888888888888888888kkkkkuuuu'>"
            ]
          },
          "metadata": {},
          "execution_count": 63
        }
      ]
    },
    {
      "cell_type": "code",
      "source": [
        "model.input_shape"
      ],
      "metadata": {
        "colab": {
          "base_uri": "https://localhost:8080/"
        },
        "id": "EE98jbnV2Waz",
        "outputId": "18b9bf98-e4f1-4523-cbe6-530a62bbfa2b"
      },
      "execution_count": 64,
      "outputs": [
        {
          "output_type": "execute_result",
          "data": {
            "text/plain": [
              "(None, 75, 46, 140, 1)"
            ]
          },
          "metadata": {},
          "execution_count": 64
        }
      ]
    },
    {
      "cell_type": "code",
      "source": [
        "model.output_shape"
      ],
      "metadata": {
        "colab": {
          "base_uri": "https://localhost:8080/"
        },
        "id": "3V8-5Vti2YG1",
        "outputId": "b4b14c9d-ea72-463c-9cef-fccc4cc317e9"
      },
      "execution_count": 65,
      "outputs": [
        {
          "output_type": "execute_result",
          "data": {
            "text/plain": [
              "(None, 75, 41)"
            ]
          },
          "metadata": {},
          "execution_count": 65
        }
      ]
    },
    {
      "cell_type": "markdown",
      "source": [
        "#4. Setup of Training Options and Train"
      ],
      "metadata": {
        "id": "Ev5s5qqI2a7m"
      }
    },
    {
      "cell_type": "code",
      "source": [
        "def scheduler(epoch, lr):\n",
        "    if epoch < 30:\n",
        "        return lr\n",
        "    else:\n",
        "        return lr * tf.math.exp(-0.1)"
      ],
      "metadata": {
        "id": "Mtjj_h1U2ZtZ"
      },
      "execution_count": 66,
      "outputs": []
    },
    {
      "cell_type": "code",
      "source": [
        "def CTCLoss(y_true, y_pred):\n",
        "    batch_len = tf.cast(tf.shape(y_true)[0], dtype=\"int64\")\n",
        "    input_length = tf.cast(tf.shape(y_pred)[1], dtype=\"int64\")\n",
        "    label_length = tf.cast(tf.shape(y_true)[1], dtype=\"int64\")\n",
        "\n",
        "    input_length = input_length * tf.ones(shape=(batch_len, 1), dtype=\"int64\")\n",
        "    label_length = label_length * tf.ones(shape=(batch_len, 1), dtype=\"int64\")\n",
        "\n",
        "    loss = tf.keras.backend.ctc_batch_cost(y_true, y_pred, input_length, label_length)\n",
        "    return loss"
      ],
      "metadata": {
        "id": "iB-M9pyH2gju"
      },
      "execution_count": 67,
      "outputs": []
    },
    {
      "cell_type": "code",
      "source": [
        "class ProduceExample(tf.keras.callbacks.Callback):\n",
        "    def __init__(self, dataset) -> None:\n",
        "        self.dataset = dataset.as_numpy_iterator()\n",
        "\n",
        "    def on_epoch_end(self, epoch, logs=None) -> None:\n",
        "        data = self.dataset.next()\n",
        "        yhat = self.model.predict(data[0])\n",
        "        decoded = tf.keras.backend.ctc_decode(yhat, [75,75], greedy=False)[0][0].numpy()\n",
        "        for x in range(len(yhat)):\n",
        "            print('Original:', tf.strings.reduce_join(num_to_char(data[1][x])).numpy().decode('utf-8'))\n",
        "            print('Prediction:', tf.strings.reduce_join(num_to_char(decoded[x])).numpy().decode('utf-8'))\n",
        "            print('~'*100)"
      ],
      "metadata": {
        "id": "9MwiQWaF2h6g"
      },
      "execution_count": 68,
      "outputs": []
    },
    {
      "cell_type": "code",
      "source": [
        "model.compile(tf.compat.v1.train.AdamOptimizer(learning_rate=0.001), loss=CTCLoss)"
      ],
      "metadata": {
        "id": "-505Q5qt2jPm"
      },
      "execution_count": 77,
      "outputs": []
    },
    {
      "cell_type": "code",
      "source": [
        "checkpoint_callback = ModelCheckpoint(os.path.join('models','checkpoint'), monitor='loss', save_weights_only=True)"
      ],
      "metadata": {
        "id": "fOFui6Jk2k0Y"
      },
      "execution_count": 70,
      "outputs": []
    },
    {
      "cell_type": "code",
      "source": [
        "schedule_callback = LearningRateScheduler(scheduler)"
      ],
      "metadata": {
        "id": "OhV2F8TH2nef"
      },
      "execution_count": 71,
      "outputs": []
    },
    {
      "cell_type": "code",
      "source": [
        "example_callback = ProduceExample(test)"
      ],
      "metadata": {
        "id": "U1e3A1CW2oup"
      },
      "execution_count": 72,
      "outputs": []
    },
    {
      "cell_type": "code",
      "source": [
        "model.fit(train, validation_data=test, epochs=100, callbacks=[checkpoint_callback, schedule_callback, example_callback])"
      ],
      "metadata": {
        "id": "okUQr1Vk2qUE"
      },
      "execution_count": null,
      "outputs": []
    },
    {
      "cell_type": "markdown",
      "source": [
        "#5. Make a Prediction"
      ],
      "metadata": {
        "id": "R64QhIri2xQK"
      }
    },
    {
      "cell_type": "code",
      "source": [
        "# @title\n",
        "output = 'checkpoints.zip'\n",
        "gdown.download(url, output, quiet=False)\n",
        "gdown.extractall('checkpoints.zip', 'models')"
      ],
      "metadata": {
        "cellView": "form",
        "id": "stdP8-at2shS"
      },
      "execution_count": null,
      "outputs": []
    },
    {
      "cell_type": "code",
      "source": [
        "model.load_weights('/content/gdrive/MyDrive/Lipnet data/models - checkpoint 96/checkpoint')"
      ],
      "metadata": {
        "colab": {
          "base_uri": "https://localhost:8080/"
        },
        "id": "qfv7XlaO25D4",
        "outputId": "5487d354-1c47-4239-ef3e-4dcead90375b"
      },
      "execution_count": 78,
      "outputs": [
        {
          "output_type": "execute_result",
          "data": {
            "text/plain": [
              "<tensorflow.python.checkpoint.checkpoint.CheckpointLoadStatus at 0x794ca2fbca90>"
            ]
          },
          "metadata": {},
          "execution_count": 78
        }
      ]
    },
    {
      "cell_type": "code",
      "source": [
        "test_data = test.as_numpy_iterator()"
      ],
      "metadata": {
        "id": "f0HBtc7D27PX"
      },
      "execution_count": 79,
      "outputs": []
    },
    {
      "cell_type": "code",
      "source": [
        "sample = test_data.next()"
      ],
      "metadata": {
        "id": "mu7kau7p4nm4"
      },
      "execution_count": 80,
      "outputs": []
    },
    {
      "cell_type": "code",
      "source": [
        "yhat = model.predict(sample[0])"
      ],
      "metadata": {
        "colab": {
          "base_uri": "https://localhost:8080/"
        },
        "id": "eDQsAFje4ouY",
        "outputId": "dad0d38e-0336-4d07-c88c-dc38153942bc"
      },
      "execution_count": 81,
      "outputs": [
        {
          "output_type": "stream",
          "name": "stdout",
          "text": [
            "1/1 [==============================] - 16s 16s/step\n"
          ]
        }
      ]
    },
    {
      "cell_type": "code",
      "source": [
        "print('~'*100, 'REAL TEXT')\n",
        "[tf.strings.reduce_join([num_to_char(word) for word in sentence]) for sentence in sample[1]]"
      ],
      "metadata": {
        "colab": {
          "base_uri": "https://localhost:8080/"
        },
        "id": "RKeF8q8m4p9f",
        "outputId": "8d3b9e1f-626f-459f-bae0-063d5bb39f86"
      },
      "execution_count": 82,
      "outputs": [
        {
          "output_type": "stream",
          "name": "stdout",
          "text": [
            "~~~~~~~~~~~~~~~~~~~~~~~~~~~~~~~~~~~~~~~~~~~~~~~~~~~~~~~~~~~~~~~~~~~~~~~~~~~~~~~~~~~~~~~~~~~~~~~~~~~~ REAL TEXT\n"
          ]
        },
        {
          "output_type": "execute_result",
          "data": {
            "text/plain": [
              "[<tf.Tensor: shape=(), dtype=string, numpy=b'lay blue by y three soon'>,\n",
              " <tf.Tensor: shape=(), dtype=string, numpy=b'bin white with u two please'>]"
            ]
          },
          "metadata": {},
          "execution_count": 82
        }
      ]
    },
    {
      "cell_type": "code",
      "source": [
        "decoded = tf.keras.backend.ctc_decode(yhat, input_length=[75,75], greedy=True)[0][0].numpy()"
      ],
      "metadata": {
        "id": "_IQfjcmz4ryj"
      },
      "execution_count": 83,
      "outputs": []
    },
    {
      "cell_type": "code",
      "source": [
        "print('~'*100, 'PREDICTIONS')\n",
        "[tf.strings.reduce_join([num_to_char(word) for word in sentence]) for sentence in decoded]"
      ],
      "metadata": {
        "colab": {
          "base_uri": "https://localhost:8080/"
        },
        "id": "VxWPxn-r4thT",
        "outputId": "bebc07d5-2d6c-4252-c0e8-f19aaa51ead2"
      },
      "execution_count": 84,
      "outputs": [
        {
          "output_type": "stream",
          "name": "stdout",
          "text": [
            "~~~~~~~~~~~~~~~~~~~~~~~~~~~~~~~~~~~~~~~~~~~~~~~~~~~~~~~~~~~~~~~~~~~~~~~~~~~~~~~~~~~~~~~~~~~~~~~~~~~~ PREDICTIONS\n"
          ]
        },
        {
          "output_type": "execute_result",
          "data": {
            "text/plain": [
              "[<tf.Tensor: shape=(), dtype=string, numpy=b'lay blue by y three soon'>,\n",
              " <tf.Tensor: shape=(), dtype=string, numpy=b'bin white with u two please'>]"
            ]
          },
          "metadata": {},
          "execution_count": 84
        }
      ]
    },
    {
      "cell_type": "markdown",
      "source": [
        "#Test on a video"
      ],
      "metadata": {
        "id": "PbxkCYMI4wQZ"
      }
    },
    {
      "cell_type": "code",
      "source": [
        "sample = load_data(tf.convert_to_tensor('/content/gdrive/MyDrive/Lipnet data/data/s1/bras9a.mpg'))"
      ],
      "metadata": {
        "id": "TwgbTYbo4u8Y"
      },
      "execution_count": 85,
      "outputs": []
    },
    {
      "cell_type": "code",
      "source": [
        "print('~'*100, 'REAL TEXT')\n",
        "[tf.strings.reduce_join([num_to_char(word) for word in sentence]) for sentence in [sample[1]]]"
      ],
      "metadata": {
        "colab": {
          "base_uri": "https://localhost:8080/"
        },
        "id": "OIhaISvX5A9M",
        "outputId": "586c775c-d7cd-4fd6-a727-58efc84a3cd2"
      },
      "execution_count": 86,
      "outputs": [
        {
          "output_type": "stream",
          "name": "stdout",
          "text": [
            "~~~~~~~~~~~~~~~~~~~~~~~~~~~~~~~~~~~~~~~~~~~~~~~~~~~~~~~~~~~~~~~~~~~~~~~~~~~~~~~~~~~~~~~~~~~~~~~~~~~~ REAL TEXT\n"
          ]
        },
        {
          "output_type": "execute_result",
          "data": {
            "text/plain": [
              "[<tf.Tensor: shape=(), dtype=string, numpy=b'bin red at s nine again'>]"
            ]
          },
          "metadata": {},
          "execution_count": 86
        }
      ]
    },
    {
      "cell_type": "code",
      "source": [
        "yhat = model.predict(tf.expand_dims(sample[0], axis=0))"
      ],
      "metadata": {
        "colab": {
          "base_uri": "https://localhost:8080/"
        },
        "id": "lzNG9vUi5Cwa",
        "outputId": "ebb17acb-5b5a-48bb-d642-4913d2b7ba23"
      },
      "execution_count": 87,
      "outputs": [
        {
          "output_type": "stream",
          "name": "stdout",
          "text": [
            "1/1 [==============================] - 9s 9s/step\n"
          ]
        }
      ]
    },
    {
      "cell_type": "code",
      "source": [
        "decoded = tf.keras.backend.ctc_decode(yhat, input_length=[75], greedy=True)[0][0].numpy()"
      ],
      "metadata": {
        "id": "4MR0IyOt5ELA"
      },
      "execution_count": 88,
      "outputs": []
    },
    {
      "cell_type": "code",
      "source": [
        "print('~'*100, 'PREDICTIONS')\n",
        "[tf.strings.reduce_join([num_to_char(word) for word in sentence]) for sentence in decoded]"
      ],
      "metadata": {
        "colab": {
          "base_uri": "https://localhost:8080/"
        },
        "id": "Pml7wdmR5FlP",
        "outputId": "0a6f5ca6-6178-4d87-d8cb-f4684838652e"
      },
      "execution_count": 89,
      "outputs": [
        {
          "output_type": "stream",
          "name": "stdout",
          "text": [
            "~~~~~~~~~~~~~~~~~~~~~~~~~~~~~~~~~~~~~~~~~~~~~~~~~~~~~~~~~~~~~~~~~~~~~~~~~~~~~~~~~~~~~~~~~~~~~~~~~~~~ PREDICTIONS\n"
          ]
        },
        {
          "output_type": "execute_result",
          "data": {
            "text/plain": [
              "[<tf.Tensor: shape=(), dtype=string, numpy=b'bin red at s nine again'>]"
            ]
          },
          "metadata": {},
          "execution_count": 89
        }
      ]
    },
    {
      "cell_type": "code",
      "source": [],
      "metadata": {
        "id": "pKmpIcZE5HI4"
      },
      "execution_count": null,
      "outputs": []
    }
  ]
}